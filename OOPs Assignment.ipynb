{
 "cells": [
  {
   "cell_type": "code",
   "execution_count": null,
   "id": "c6f66708-840e-4ecc-bca4-77a7192b2291",
   "metadata": {},
   "outputs": [],
   "source": [
    "#OOPs Assignment"
   ]
  },
  {
   "cell_type": "code",
   "execution_count": null,
   "id": "bf1297ba-e8d0-431c-9998-72af5879b133",
   "metadata": {},
   "outputs": [],
   "source": [
    "#Q1. Explain Class and Object with respect to Object-Oriented Programming. Give a suitable example."
   ]
  },
  {
   "cell_type": "code",
   "execution_count": null,
   "id": "e19a75b8-de33-4834-b353-221146b8c688",
   "metadata": {},
   "outputs": [],
   "source": [
    "#answer1\n",
    "#CLASS- class is a blueprint for creating objects, it define set of attribute and method that the created method use. a class is a template for objects and encapsulates data for the object.\n",
    "#OBJECT - An object is an instance of a class. It is a concrete entity based on the class blueprint and can have attributes and behaviors as defined by the class."
   ]
  },
  {
   "cell_type": "code",
   "execution_count": 2,
   "id": "69c477a6-86a2-43a6-89f8-2a31f968ba71",
   "metadata": {},
   "outputs": [],
   "source": [
    "class students:\n",
    "    \n",
    "    def __init__(self, name, course, number):\n",
    "        self.name = name\n",
    "        self.course = course\n",
    "        self.number = number\n",
    "        \n",
    "    def student_details(self):\n",
    "        print( self.name, self.course, self.number)"
   ]
  },
  {
   "cell_type": "code",
   "execution_count": 3,
   "id": "267b31df-3a4e-488a-86e4-86e08b48486a",
   "metadata": {},
   "outputs": [],
   "source": [
    "pw = students(\"ankit\", \"data science\", 9828350179)"
   ]
  },
  {
   "cell_type": "code",
   "execution_count": 4,
   "id": "bcfcd72a-cbb5-440f-b90c-d1078dba91c8",
   "metadata": {},
   "outputs": [
    {
     "name": "stdout",
     "output_type": "stream",
     "text": [
      "ankit data science 9828350179\n"
     ]
    }
   ],
   "source": [
    "pw.student_details()"
   ]
  },
  {
   "cell_type": "code",
   "execution_count": null,
   "id": "27c63e81-f6ec-4df9-a8f2-5574a07ebbd9",
   "metadata": {},
   "outputs": [],
   "source": [
    "#Q2. Name the Four Pillars of OOPs."
   ]
  },
  {
   "cell_type": "code",
   "execution_count": null,
   "id": "ed0bbe15-4b9e-460a-8340-cf8a9d17b77e",
   "metadata": {},
   "outputs": [],
   "source": [
    "#1. ENCAPSULATION -  Wrapping the data (variables) and code (methods) together as a single unit.\n",
    "#2. ABSTRACTION - Hiding the complex implementation details and showing only the necessary features.\n",
    "#3. INHERITANCE - Acquiring the properties and behaviors of a parent class into a child class.\n",
    "#4. POLYMORPHISAM -  Allowing entities to be represented in multiple forms, typically through method overriding and overloading."
   ]
  },
  {
   "cell_type": "code",
   "execution_count": null,
   "id": "ff5eae83-c651-4c6a-84ca-93cfb305aaee",
   "metadata": {},
   "outputs": [],
   "source": [
    "#Q3. Explain why the __init__() function is used. Give a suitable example."
   ]
  },
  {
   "cell_type": "code",
   "execution_count": null,
   "id": "dfe4b3bf-1462-47f0-a6b5-691258878ab9",
   "metadata": {},
   "outputs": [],
   "source": [
    "# __init__() is a function, also called the constructor, is used to initialize the attributes of an object when it is created. This function is called automatically when a new instance of the class is created"
   ]
  },
  {
   "cell_type": "code",
   "execution_count": 9,
   "id": "5be0961b-5847-4fd2-96ab-84163699f090",
   "metadata": {},
   "outputs": [],
   "source": [
    "class bike:\n",
    "    def __init__(self, make, model, year):\n",
    "        self.make = make\n",
    "        self.model = model\n",
    "        self.year = year\n",
    "        \n",
    "    def bike_details(self):\n",
    "        print (self.make, self.model, self.year)"
   ]
  },
  {
   "cell_type": "code",
   "execution_count": 10,
   "id": "ed09b8e4-2e55-419e-bdd1-a57b0f591add",
   "metadata": {},
   "outputs": [],
   "source": [
    "pw1 = bike(\"honda\", \"honda3456\", 2011)"
   ]
  },
  {
   "cell_type": "code",
   "execution_count": 11,
   "id": "57660456-8dad-4c10-baba-e180df643dc1",
   "metadata": {},
   "outputs": [
    {
     "name": "stdout",
     "output_type": "stream",
     "text": [
      "honda honda3456 2011\n"
     ]
    }
   ],
   "source": [
    "pw1.bike_details()"
   ]
  },
  {
   "cell_type": "code",
   "execution_count": null,
   "id": "8eb2d0fc-770a-4064-834b-c6e281a59a46",
   "metadata": {},
   "outputs": [],
   "source": [
    "#Q4. Why self is used in OOPs?"
   ]
  },
  {
   "cell_type": "code",
   "execution_count": null,
   "id": "486edcbf-4b5d-40bf-a2c0-5b848e219a35",
   "metadata": {},
   "outputs": [],
   "source": [
    "#SELF is used in OOPs to refer to the instance of the class. It is a reference to the current object whose method or attribute is being accessed. Using self allows each object to keep track of its own data."
   ]
  },
  {
   "cell_type": "code",
   "execution_count": 12,
   "id": "152aa04e-f87e-4590-bd02-28b5c9ef36e7",
   "metadata": {},
   "outputs": [],
   "source": [
    "class student:\n",
    "    \n",
    "    def __init__(self,name):\n",
    "        self.name = name\n",
    "        \n",
    "    def stu_name(self):\n",
    "        print (self.name)\n",
    "    "
   ]
  },
  {
   "cell_type": "code",
   "execution_count": 14,
   "id": "b7fe23ff-2db7-40a5-a967-976a6fbc67c3",
   "metadata": {},
   "outputs": [],
   "source": [
    "pw2= student(\"ankit\")"
   ]
  },
  {
   "cell_type": "code",
   "execution_count": 15,
   "id": "9bfb3563-c286-4fa8-b526-93191f07b412",
   "metadata": {},
   "outputs": [
    {
     "name": "stdout",
     "output_type": "stream",
     "text": [
      "ankit\n"
     ]
    }
   ],
   "source": [
    "pw2.stu_name()"
   ]
  },
  {
   "cell_type": "code",
   "execution_count": null,
   "id": "385f69f2-186f-40cd-805a-dfc0e47743e9",
   "metadata": {},
   "outputs": [],
   "source": [
    "#Q5. What is inheritance? Give an example for each type of inheritance."
   ]
  },
  {
   "cell_type": "code",
   "execution_count": null,
   "id": "a1fc03d2-833a-4256-a384-45f83ec879b5",
   "metadata": {},
   "outputs": [],
   "source": [
    "#INHERITANCE - Acquiring the properties and behaviors of a parent class into a child class."
   ]
  },
  {
   "cell_type": "code",
   "execution_count": 16,
   "id": "3f56fa72-5d83-4f46-b1b7-4bf5edc8bca3",
   "metadata": {},
   "outputs": [],
   "source": [
    "#types of inheritance\n",
    "#1. single inheritance\n",
    "\n",
    "class fish:\n",
    "    def fish_sps(self):\n",
    "        return \"dog fish\"\n",
    "    \n",
    "class dog_fish(fish):\n",
    "    def fish_name(self):\n",
    "        return \"shark\""
   ]
  },
  {
   "cell_type": "code",
   "execution_count": 19,
   "id": "2ecae61e-aef4-43a7-bfb0-59c212893d55",
   "metadata": {},
   "outputs": [],
   "source": [
    "pw3 = dog_fish()"
   ]
  },
  {
   "cell_type": "code",
   "execution_count": 21,
   "id": "806be7bf-4702-47e0-a455-dd42efad2fec",
   "metadata": {},
   "outputs": [
    {
     "data": {
      "text/plain": [
       "'dog fish'"
      ]
     },
     "execution_count": 21,
     "metadata": {},
     "output_type": "execute_result"
    }
   ],
   "source": [
    "pw3.fish_sps()"
   ]
  },
  {
   "cell_type": "code",
   "execution_count": 23,
   "id": "fbe0937e-c9e4-4c3c-8dab-b286039da037",
   "metadata": {},
   "outputs": [
    {
     "data": {
      "text/plain": [
       "'shark'"
      ]
     },
     "execution_count": 23,
     "metadata": {},
     "output_type": "execute_result"
    }
   ],
   "source": [
    "pw3.fish_name()"
   ]
  },
  {
   "cell_type": "code",
   "execution_count": 27,
   "id": "7f222e38-9aa6-43fe-99ff-61b1e25130bd",
   "metadata": {},
   "outputs": [],
   "source": [
    "#2. Multiple Inheritance\n",
    "\n",
    "class heart_func:\n",
    "    def heart(self): \n",
    "        return \"blood pumping\"\n",
    "    \n",
    "class lung_func:\n",
    "    def lung(self):\n",
    "        return \"Transportation of gaes\"\n",
    "    \n",
    "class kidney_func:\n",
    "    def kidney (self):\n",
    "        return \"Filtration of blood\"\n",
    "\n",
    "class human_system(heart_func, lung_func, kidney_func):\n",
    "    pass"
   ]
  },
  {
   "cell_type": "code",
   "execution_count": 28,
   "id": "ce78a69a-b227-4e91-80a6-30c08601ef55",
   "metadata": {},
   "outputs": [],
   "source": [
    "pw4 = human_system()"
   ]
  },
  {
   "cell_type": "code",
   "execution_count": 30,
   "id": "60e0079a-67b1-46b7-8ccb-8bf1e5604fac",
   "metadata": {},
   "outputs": [
    {
     "data": {
      "text/plain": [
       "'blood pumping'"
      ]
     },
     "execution_count": 30,
     "metadata": {},
     "output_type": "execute_result"
    }
   ],
   "source": [
    "pw4.heart()"
   ]
  },
  {
   "cell_type": "code",
   "execution_count": 32,
   "id": "f64361ec-237e-40ab-8617-9398f3849600",
   "metadata": {},
   "outputs": [
    {
     "data": {
      "text/plain": [
       "'Transportation of gaes'"
      ]
     },
     "execution_count": 32,
     "metadata": {},
     "output_type": "execute_result"
    }
   ],
   "source": [
    "pw4.lung()"
   ]
  },
  {
   "cell_type": "code",
   "execution_count": 33,
   "id": "4801e36d-ebc9-46b3-8e60-1b907816a4f5",
   "metadata": {},
   "outputs": [
    {
     "data": {
      "text/plain": [
       "'Filtration of blood'"
      ]
     },
     "execution_count": 33,
     "metadata": {},
     "output_type": "execute_result"
    }
   ],
   "source": [
    "pw4.kidney()"
   ]
  },
  {
   "cell_type": "code",
   "execution_count": 35,
   "id": "22648950-8250-4994-86b9-a98fac72e91c",
   "metadata": {},
   "outputs": [],
   "source": [
    "#3. Multilevel Inheritance\n",
    "\n",
    "class animal:\n",
    "    def animals(self):\n",
    "        return \"walking\"\n",
    "class fish(animal):\n",
    "    def fishs(self):\n",
    "        return \"swiming\"\n",
    "class earth(fish):\n",
    "    def birds(self):\n",
    "        return \"flying\""
   ]
  },
  {
   "cell_type": "code",
   "execution_count": 36,
   "id": "91c77689-cd1a-46f9-93ee-7952640ecce2",
   "metadata": {},
   "outputs": [],
   "source": [
    "pw5 = earth()"
   ]
  },
  {
   "cell_type": "code",
   "execution_count": 37,
   "id": "adf29621-368f-4006-a2f4-b5a02f47fd54",
   "metadata": {},
   "outputs": [
    {
     "data": {
      "text/plain": [
       "'walking'"
      ]
     },
     "execution_count": 37,
     "metadata": {},
     "output_type": "execute_result"
    }
   ],
   "source": [
    "pw5.animals()"
   ]
  },
  {
   "cell_type": "code",
   "execution_count": 38,
   "id": "93854ab7-68f7-4953-bbae-74da4a1a5516",
   "metadata": {},
   "outputs": [
    {
     "data": {
      "text/plain": [
       "'swiming'"
      ]
     },
     "execution_count": 38,
     "metadata": {},
     "output_type": "execute_result"
    }
   ],
   "source": [
    "pw5.fishs()"
   ]
  },
  {
   "cell_type": "code",
   "execution_count": 40,
   "id": "a0bede6f-bd84-465d-8b21-b55a10c6bf82",
   "metadata": {},
   "outputs": [
    {
     "data": {
      "text/plain": [
       "'flying'"
      ]
     },
     "execution_count": 40,
     "metadata": {},
     "output_type": "execute_result"
    }
   ],
   "source": [
    "pw5.birds()"
   ]
  },
  {
   "cell_type": "code",
   "execution_count": 41,
   "id": "a1770d2d-2d63-4545-aedb-032921cba348",
   "metadata": {},
   "outputs": [],
   "source": [
    "#4. Hierarchical Inheritance\n",
    "\n",
    "class Animal:\n",
    "    def eat(self):\n",
    "        return \"Eating\"\n",
    "\n",
    "class Dog(Animal):\n",
    "    def bark(self):\n",
    "        return \"Barking\"\n",
    "\n",
    "class Cat(Animal):\n",
    "    def meow(self):\n",
    "        return \"Meowing\""
   ]
  },
  {
   "cell_type": "code",
   "execution_count": 43,
   "id": "ef29f9d6-d0fa-4460-895d-726ebda2b023",
   "metadata": {},
   "outputs": [],
   "source": [
    "pw6 = Dog()"
   ]
  },
  {
   "cell_type": "code",
   "execution_count": 44,
   "id": "6b0b91e8-4016-424a-bbf9-590e8fcd7597",
   "metadata": {},
   "outputs": [
    {
     "ename": "AttributeError",
     "evalue": "'tuple' object has no attribute 'meow'",
     "output_type": "error",
     "traceback": [
      "\u001b[0;31m---------------------------------------------------------------------------\u001b[0m",
      "\u001b[0;31mAttributeError\u001b[0m                            Traceback (most recent call last)",
      "Cell \u001b[0;32mIn[47], line 1\u001b[0m\n\u001b[0;32m----> 1\u001b[0m \u001b[43mpw6\u001b[49m\u001b[38;5;241;43m.\u001b[39;49m\u001b[43mmeow\u001b[49m()\n",
      "\u001b[0;31mAttributeError\u001b[0m: 'tuple' object has no attribute 'meow'"
     ]
    }
   ],
   "source": [
    "pw6.eat()"
   ]
  },
  {
   "cell_type": "code",
   "execution_count": 45,
   "id": "5f92c636-a2c1-4db8-8d23-7e19184b59c7",
   "metadata": {},
   "outputs": [
    {
     "data": {
      "text/plain": [
       "'Barking'"
      ]
     },
     "execution_count": 45,
     "metadata": {},
     "output_type": "execute_result"
    }
   ],
   "source": [
    "pw6.bark()"
   ]
  },
  {
   "cell_type": "code",
   "execution_count": null,
   "id": "909be989-86ae-462b-b725-005fd872abfe",
   "metadata": {},
   "outputs": [],
   "source": [
    "pw6"
   ]
  }
 ],
 "metadata": {
  "kernelspec": {
   "display_name": "Python 3 (ipykernel)",
   "language": "python",
   "name": "python3"
  },
  "language_info": {
   "codemirror_mode": {
    "name": "ipython",
    "version": 3
   },
   "file_extension": ".py",
   "mimetype": "text/x-python",
   "name": "python",
   "nbconvert_exporter": "python",
   "pygments_lexer": "ipython3",
   "version": "3.10.8"
  }
 },
 "nbformat": 4,
 "nbformat_minor": 5
}
